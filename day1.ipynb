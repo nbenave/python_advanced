{
 "cells": [
  {
   "cell_type": "markdown",
   "metadata": {},
   "source": [
    "# Title1 \n",
    "## Title2\n",
    "### Title3\n",
    "#### Title4\n",
    "\n",
    "plain text\n",
    "\n",
    "*italic text*\n",
    "- list1\n",
    "- list2\n",
    "- list3\n",
    "\n",
    "1. list1\n",
    "2. list2\n",
    "3. list3\n",
    "\n",
    "[link](https://www.google.com)\n",
    "\n",
    "![image](https://www.google.com/images/branding/googlelogo/1x/googlelogo_color_272x92dp.png)\n",
    "\n",
    "latex: $e^{i\\pi} + 1 = 0$"
   ]
  },
  {
   "attachments": {},
   "cell_type": "markdown",
   "metadata": {},
   "source": [
    "tuple - Read only"
   ]
  },
  {
   "cell_type": "code",
   "execution_count": 8,
   "metadata": {},
   "outputs": [
    {
     "ename": "TypeError",
     "evalue": "'tuple' object does not support item assignment",
     "output_type": "error",
     "traceback": [
      "\u001b[1;31m---------------------------------------------------------------------------\u001b[0m",
      "\u001b[1;31mTypeError\u001b[0m                                 Traceback (most recent call last)",
      "Cell \u001b[1;32mIn[8], line 2\u001b[0m\n\u001b[0;32m      1\u001b[0m my_tup \u001b[39m=\u001b[39m (\u001b[39m1\u001b[39m,\u001b[39m2\u001b[39m,\u001b[39m3\u001b[39m)\n\u001b[1;32m----> 2\u001b[0m my_tup[\u001b[39m0\u001b[39;49m] \u001b[39m=\u001b[39m \u001b[39m4\u001b[39m\n\u001b[0;32m      3\u001b[0m my_tup\n",
      "\u001b[1;31mTypeError\u001b[0m: 'tuple' object does not support item assignment"
     ]
    }
   ],
   "source": [
    "my_tup = (1,2,3)\n",
    "my_tup[0] = 4\n",
    "my_tup"
   ]
  },
  {
   "cell_type": "code",
   "execution_count": 14,
   "metadata": {},
   "outputs": [
    {
     "name": "stdout",
     "output_type": "stream",
     "text": [
      "7 2 3\n"
     ]
    }
   ],
   "source": [
    "a,b,c = (my_tup)\n",
    "print(a,b,c)"
   ]
  },
  {
   "cell_type": "code",
   "execution_count": 15,
   "metadata": {},
   "outputs": [
    {
     "name": "stdout",
     "output_type": "stream",
     "text": [
      "(7, 2, 3)\n"
     ]
    }
   ],
   "source": [
    "a = 7\n",
    "print(my_tup)"
   ]
  },
  {
   "attachments": {},
   "cell_type": "markdown",
   "metadata": {},
   "source": [
    "List"
   ]
  },
  {
   "cell_type": "code",
   "execution_count": 18,
   "metadata": {},
   "outputs": [
    {
     "name": "stdout",
     "output_type": "stream",
     "text": [
      "1\n",
      "[4, 5, 6]\n",
      "[1, 2, 3, 'a', 'b', 'c']\n",
      "['hello', 1, 2, 3, 'a', 'b', 'c']\n",
      "hello\n"
     ]
    }
   ],
   "source": [
    "my_lst = [1,2,3,'a','b','c',[4,5,6]]\n",
    "print(my_lst[0])\n",
    "item = my_lst.pop() # pop out the last item\n",
    "print(item)\n",
    "print(my_lst)\n",
    "my_lst.insert(0,'hello') # insert in index 0\n",
    "print(my_lst)\n",
    "item = my_lst.pop(0) # pop from the begining\n",
    "print(item)"
   ]
  },
  {
   "cell_type": "code",
   "execution_count": 27,
   "metadata": {},
   "outputs": [
    {
     "name": "stdout",
     "output_type": "stream",
     "text": [
      "[6, 7, 8, 9]\n",
      "[6, 7, 8]\n",
      "[3, 5, 7, 9]\n",
      "[1, 4, 7]\n",
      "[1, 4, 7]\n"
     ]
    }
   ],
   "source": [
    "# Slices arre references to original array\n",
    "my_lst = [1,2,3,4,5,6,7,8,9]\n",
    "print(my_lst[5:])\n",
    "print(my_lst[5:8])\n",
    "start = 2\n",
    "stop = 9\n",
    "step = 2\n",
    "print(my_lst[start:stop:step])\n",
    "\n",
    "# if not inserted , start = 0 , stop = len\n",
    "start = 0\n",
    "stop = 9\n",
    "step = 3\n",
    "print(my_lst[start:stop:step])\n",
    "print(my_lst[::3])"
   ]
  },
  {
   "cell_type": "code",
   "execution_count": 32,
   "metadata": {},
   "outputs": [
    {
     "name": "stdout",
     "output_type": "stream",
     "text": [
      "[8, 9]\n",
      "[9, 8, 7, 6, 5, 4, 0, 0, 0]\n",
      "[0, 0, 0, 4, 5, 6, 7, 8, 9]\n",
      "[0, 0, 0, 42, 8, 9]\n"
     ]
    }
   ],
   "source": [
    "print(my_lst[-2:]) # last two\n",
    "print(my_lst[::-1]) # step -1 all array, start at the end and stepping through the list\n",
    "my_lst[0:3] = [0,0,0]\n",
    "print(my_lst)\n",
    "my_lst[3:7] = [42]\n",
    "print(my_lst)\n"
   ]
  },
  {
   "attachments": {},
   "cell_type": "markdown",
   "metadata": {},
   "source": [
    "set - like dictionary without values keys, set has no index\n",
    "my_set[0] is not available.\n",
    "add to set with .add()\n"
   ]
  },
  {
   "cell_type": "code",
   "execution_count": 37,
   "metadata": {},
   "outputs": [
    {
     "data": {
      "text/plain": [
       "{1, 2, 3, 4, 5, 6}"
      ]
     },
     "execution_count": 37,
     "metadata": {},
     "output_type": "execute_result"
    }
   ],
   "source": [
    "my_set = {1,2,3,4,5}\n",
    "my_set.add(6)\n",
    "my_set"
   ]
  },
  {
   "cell_type": "code",
   "execution_count": 38,
   "metadata": {},
   "outputs": [
    {
     "data": {
      "text/plain": [
       "{2, 3, 4, 5, 6}"
      ]
     },
     "execution_count": 38,
     "metadata": {},
     "output_type": "execute_result"
    }
   ],
   "source": [
    "my_set.remove(1)\n",
    "my_set"
   ]
  },
  {
   "cell_type": "code",
   "execution_count": 39,
   "metadata": {},
   "outputs": [
    {
     "data": {
      "text/plain": [
       "{4, 5, 6, 7}"
      ]
     },
     "execution_count": 39,
     "metadata": {},
     "output_type": "execute_result"
    }
   ],
   "source": [
    "my_set1 = {4,5,6,7}\n",
    "my_set1"
   ]
  },
  {
   "cell_type": "code",
   "execution_count": 43,
   "metadata": {},
   "outputs": [
    {
     "name": "stdout",
     "output_type": "stream",
     "text": [
      "{4, 5, 6}\n",
      "{2, 3, 4, 5, 6, 7}\n",
      "-\n",
      "{2, 3}\n",
      "{7}\n",
      "{2, 3, 7}\n"
     ]
    }
   ],
   "source": [
    "print(my_set & my_set1)\n",
    "print(my_set | my_set1)\n",
    "print('-')\n",
    "print(my_set - my_set1)\n",
    "print(my_set1 - my_set)\n",
    "print(my_set ^ my_set1)"
   ]
  },
  {
   "attachments": {},
   "cell_type": "markdown",
   "metadata": {},
   "source": [
    "dict"
   ]
  },
  {
   "cell_type": "code",
   "execution_count": 45,
   "metadata": {},
   "outputs": [
    {
     "name": "stdout",
     "output_type": "stream",
     "text": [
      "{'name': 'jhon', 'age': 36, 'courntry': 'normay'}\n",
      "{'name': 'jhon', 'age': 36, 'courntry': 'normay', 'email': 'new@mail.com'}\n"
     ]
    }
   ],
   "source": [
    "my_d = {'name' : 'jhon',\n",
    "        \"age\": 36,\n",
    "        \"courntry\": 'normay'}\n",
    "print(my_d)\n",
    "my_d['email'] = 'new@mail.com' # add new key is not exists\n",
    "print(my_d)"
   ]
  },
  {
   "attachments": {},
   "cell_type": "markdown",
   "metadata": {},
   "source": [
    "EX1"
   ]
  },
  {
   "cell_type": "code",
   "execution_count": 52,
   "metadata": {},
   "outputs": [
    {
     "name": "stdout",
     "output_type": "stream",
     "text": [
      "user['name']='Jhon', user['age']=36\n",
      "Tesla BMW\n",
      "Bruno\n",
      "gmail.com\n"
     ]
    }
   ],
   "source": [
    "# Given the following dictionary, print the required below\n",
    "user = {\n",
    "    \"name\":\"Jhon\",\n",
    "    \"age\" : 36,\n",
    "    \"coutry\" : \"norway\",\n",
    "    \"email\": \"john@gmail.com\",\n",
    "    \"cars\" : [\"Tesla\", \"Volvo\", \"BMW\"],\n",
    "    \"pets\" : [\n",
    "        {\"type\":\"dog\", \"name\":\"Bruno\"},\n",
    "        {\"type\":\"cat\", \"name\":\"Mia\"},\n",
    "    ]\n",
    "}\n",
    "'''\n",
    "1. Print the name , age of the user\n",
    "2. Print first last pet\n",
    "3. print the name of the first pet\n",
    "4. print domain of email.\n",
    "'''\n",
    "print(f\"{user['name']=}, {user['age']=}\")\n",
    "print(user['cars'][0],user['cars'][-1])\n",
    "print(user['pets'][0]['name'])\n",
    "print(user['email'].split('@')[-1])"
   ]
  },
  {
   "attachments": {},
   "cell_type": "markdown",
   "metadata": {},
   "source": [
    "built in functions"
   ]
  },
  {
   "cell_type": "code",
   "execution_count": 54,
   "metadata": {},
   "outputs": [
    {
     "name": "stdout",
     "output_type": "stream",
     "text": [
      "<class 'float'>\n",
      "3\n"
     ]
    }
   ],
   "source": [
    "print(type(0.1))\n",
    "print(len([1,2,3]))\n",
    "\n"
   ]
  },
  {
   "attachments": {},
   "cell_type": "markdown",
   "metadata": {},
   "source": [
    "loops"
   ]
  },
  {
   "cell_type": "code",
   "execution_count": 56,
   "metadata": {},
   "outputs": [
    {
     "name": "stdout",
     "output_type": "stream",
     "text": [
      "0: apple\n",
      "1: banana\n",
      "2: cherry\n",
      "3: orange\n"
     ]
    }
   ],
   "source": [
    "fruits = ['apple','banana','cherry','orange']\n",
    "\n",
    "for i , fruit in enumerate(fruits):\n",
    "    print(i,fruit, sep=': ')\n"
   ]
  },
  {
   "attachments": {},
   "cell_type": "markdown",
   "metadata": {},
   "source": [
    "functions"
   ]
  },
  {
   "cell_type": "code",
   "execution_count": 70,
   "metadata": {},
   "outputs": [
    {
     "name": "stdout",
     "output_type": "stream",
     "text": [
      "42\n",
      "eli 42\n",
      "this is doc string\n",
      "this is doc string\n",
      "    name: the name of person\n",
      "    age: age of person\n",
      "    \n"
     ]
    },
    {
     "ename": "TypeError",
     "evalue": "expected 1 argument, got 0",
     "output_type": "error",
     "traceback": [
      "\u001b[1;31m---------------------------------------------------------------------------\u001b[0m",
      "\u001b[1;31mTypeError\u001b[0m                                 Traceback (most recent call last)",
      "Cell \u001b[1;32mIn[70], line 15\u001b[0m\n\u001b[0;32m     13\u001b[0m \u001b[39mprint\u001b[39m(func_doc\u001b[39m.\u001b[39m\u001b[39m__doc__\u001b[39m)\n\u001b[0;32m     14\u001b[0m \u001b[39mprint\u001b[39m(func_doc_with_vars\u001b[39m.\u001b[39m\u001b[39m__doc__\u001b[39m)\n\u001b[1;32m---> 15\u001b[0m \u001b[39mprint\u001b[39m(func_doc_with_vars\u001b[39m.\u001b[39;49m\u001b[39m__getattribute__\u001b[39;49m())\n",
      "\u001b[1;31mTypeError\u001b[0m: expected 1 argument, got 0"
     ]
    }
   ],
   "source": [
    "def func_doc():\n",
    "    \"\"\"this is doc string\"\"\"\n",
    "    print(42)\n",
    "def func_doc_with_vars(name,age):\n",
    "    \"\"\"this is doc string\n",
    "    name: the name of person\n",
    "    age: age of person\n",
    "    \"\"\"\n",
    "    print(name,age)\n",
    "\n",
    "func_doc()\n",
    "func_doc_with_vars('eli',42)\n",
    "print(func_doc.__doc__)\n",
    "print(func_doc_with_vars.__doc__)"
   ]
  },
  {
   "cell_type": "code",
   "execution_count": 78,
   "metadata": {},
   "outputs": [
    {
     "name": "stdout",
     "output_type": "stream",
     "text": [
      "3\n",
      "2\n"
     ]
    }
   ],
   "source": [
    "def func_with_many_var(a,b,c,d,e,f):\n",
    "    return a+b+c+d+e+f\n",
    "func_with_many_var(1,2,3,4,5,6)\n",
    "func_with_many_var(a=1,b=2,c=3,d=4,e=5,f=6)\n",
    "func_with_many_var(1,2,3,d=4,e=5,f=6)\n",
    "func_with_many_var(d=4,e=5,f=6,a=1,b=2,c=3)\n",
    "\n",
    "def func_with_def_val(x,y=1):\n",
    "    print(x+y)\n",
    "\n",
    "func_with_def_val(1,2)\n",
    "func_with_def_val(1)"
   ]
  },
  {
   "cell_type": "code",
   "execution_count": 80,
   "metadata": {},
   "outputs": [
    {
     "name": "stdout",
     "output_type": "stream",
     "text": [
      "13\n"
     ]
    }
   ],
   "source": [
    "def my_func(x,y): # function can call from the global scope, but not the opposite\n",
    "    print(x+y+num)\n",
    "\n",
    "num = 10\n",
    "my_func(1,2)"
   ]
  },
  {
   "cell_type": "code",
   "execution_count": 84,
   "metadata": {},
   "outputs": [],
   "source": [
    "# dont open file like this, it is bad idea because not always close !\n",
    "try:\n",
    "    f = open('path','r') \n",
    "except FileNotFoundError:\n",
    "    pass\n",
    "# error max open files can be triggered and avoid to open more files or sockets.\n",
    "#instead : \n",
    "try:\n",
    "    with open('path') as f:\n",
    "        f.read()\n",
    "        ...\n",
    "except: pass\n"
   ]
  },
  {
   "cell_type": "code",
   "execution_count": null,
   "metadata": {},
   "outputs": [],
   "source": [
    "# install sqlite light viewer extention in vscode to preview tables and execute query"
   ]
  },
  {
   "attachments": {},
   "cell_type": "markdown",
   "metadata": {},
   "source": [
    "Classes"
   ]
  },
  {
   "cell_type": "code",
   "execution_count": 88,
   "metadata": {},
   "outputs": [],
   "source": [
    "class A:\n",
    "    def __str__(self):\n",
    "        return 'Hello'"
   ]
  },
  {
   "cell_type": "code",
   "execution_count": 89,
   "metadata": {},
   "outputs": [
    {
     "name": "stdout",
     "output_type": "stream",
     "text": [
      "Hello\n"
     ]
    }
   ],
   "source": [
    "a = A()\n",
    "print(a)"
   ]
  },
  {
   "cell_type": "code",
   "execution_count": 90,
   "metadata": {},
   "outputs": [
    {
     "name": "stdout",
     "output_type": "stream",
     "text": [
      "[<__main__.A object at 0x0000018E17FFB350>, <__main__.A object at 0x0000018E17FFB350>, <__main__.A object at 0x0000018E17FFB350>]\n"
     ]
    }
   ],
   "source": [
    "lst = [a,a,a]\n",
    "print(lst)"
   ]
  },
  {
   "cell_type": "code",
   "execution_count": 91,
   "metadata": {},
   "outputs": [],
   "source": [
    "class A:\n",
    "    def __repr__(self):\n",
    "        return 'Hello'"
   ]
  },
  {
   "cell_type": "code",
   "execution_count": 92,
   "metadata": {},
   "outputs": [
    {
     "name": "stdout",
     "output_type": "stream",
     "text": [
      "Hello\n",
      "[Hello, Hello, Hello]\n"
     ]
    }
   ],
   "source": [
    "a = A()\n",
    "print(a)\n",
    "lst = [a,a,a]\n",
    "print(lst)"
   ]
  },
  {
   "cell_type": "code",
   "execution_count": 97,
   "metadata": {},
   "outputs": [
    {
     "name": "stdout",
     "output_type": "stream",
     "text": [
      "False\n",
      "True\n"
     ]
    }
   ],
   "source": [
    "class Point2D:\n",
    "    def __init__(self, x, y):\n",
    "        self.x = x\n",
    "        self.y = y\n",
    "    \n",
    "    def distance(self, other):\n",
    "        return math.sqrt((self.x - other.x)**2 + (self.y - other.y)**2)\n",
    "    \n",
    "    def translate(self, dx, dy):\n",
    "        self.x += dx\n",
    "        self.y += dy\n",
    "\n",
    "    def __repr__(self):\n",
    "        return f'Point2D({self.x}, {self.y})'\n",
    "    \n",
    "    def __eq__(self, other):\n",
    "        return self.x == other.x and self.y == other.y\n",
    "    \n",
    "    def __lt__(self,other):\n",
    "        return self.x < other.x\n",
    "    \n",
    "\n",
    "p1 = Point2D(0, 0)\n",
    "p2 = Point2D(1, 1)\n",
    "p3 = Point2D(0, 0)\n",
    "\n",
    "print(p1 == p2)\n",
    "print(p1 == p3)"
   ]
  },
  {
   "cell_type": "code",
   "execution_count": 101,
   "metadata": {},
   "outputs": [
    {
     "name": "stdout",
     "output_type": "stream",
     "text": [
      "Rectangle2D(Point2D(5, 5), 10, 20)\n"
     ]
    },
    {
     "ename": "NameError",
     "evalue": "name 'math' is not defined",
     "output_type": "error",
     "traceback": [
      "\u001b[1;31m---------------------------------------------------------------------------\u001b[0m",
      "\u001b[1;31mNameError\u001b[0m                                 Traceback (most recent call last)",
      "Cell \u001b[1;32mIn[101], line 24\u001b[0m\n\u001b[0;32m     22\u001b[0m r1\u001b[39m.\u001b[39mtranslate(\u001b[39m5\u001b[39m, \u001b[39m5\u001b[39m)\n\u001b[0;32m     23\u001b[0m \u001b[39mprint\u001b[39m(r1)\n\u001b[1;32m---> 24\u001b[0m \u001b[39mprint\u001b[39m(r1\u001b[39m.\u001b[39;49mdistance(r1))\n\u001b[0;32m     26\u001b[0m r2 \u001b[39m=\u001b[39m Rectangle2D(p1, \u001b[39m10\u001b[39m, \u001b[39m20\u001b[39m)\n\u001b[0;32m     27\u001b[0m \u001b[39mprint\u001b[39m(r1 \u001b[39m==\u001b[39m r2)\n",
      "Cell \u001b[1;32mIn[101], line 11\u001b[0m, in \u001b[0;36mRectangle2D.distance\u001b[1;34m(self, other)\u001b[0m\n\u001b[0;32m     10\u001b[0m \u001b[39mdef\u001b[39;00m \u001b[39mdistance\u001b[39m(\u001b[39mself\u001b[39m, other):\n\u001b[1;32m---> 11\u001b[0m     \u001b[39mreturn\u001b[39;00m other\u001b[39m.\u001b[39;49mpoint\u001b[39m.\u001b[39;49mdistance(\u001b[39mself\u001b[39;49m\u001b[39m.\u001b[39;49mpoint)\n",
      "Cell \u001b[1;32mIn[97], line 7\u001b[0m, in \u001b[0;36mPoint2D.distance\u001b[1;34m(self, other)\u001b[0m\n\u001b[0;32m      6\u001b[0m \u001b[39mdef\u001b[39;00m \u001b[39mdistance\u001b[39m(\u001b[39mself\u001b[39m, other):\n\u001b[1;32m----> 7\u001b[0m     \u001b[39mreturn\u001b[39;00m math\u001b[39m.\u001b[39msqrt((\u001b[39mself\u001b[39m\u001b[39m.\u001b[39mx \u001b[39m-\u001b[39m other\u001b[39m.\u001b[39mx)\u001b[39m*\u001b[39m\u001b[39m*\u001b[39m\u001b[39m2\u001b[39m \u001b[39m+\u001b[39m (\u001b[39mself\u001b[39m\u001b[39m.\u001b[39my \u001b[39m-\u001b[39m other\u001b[39m.\u001b[39my)\u001b[39m*\u001b[39m\u001b[39m*\u001b[39m\u001b[39m2\u001b[39m)\n",
      "\u001b[1;31mNameError\u001b[0m: name 'math' is not defined"
     ]
    }
   ],
   "source": [
    "class Rectangle2D:\n",
    "    def __init__(self, point, width, height):\n",
    "        self.point = point\n",
    "        self.width = width\n",
    "        self.height = height\n",
    "\n",
    "    def translate(self, dx, dy):\n",
    "        self.point.translate(dx, dy)\n",
    "\n",
    "    def distance(self, other):\n",
    "        return other.point.distance(self.point)\n",
    "    \n",
    "    def __repr__(self):\n",
    "        return f\"Rectangle2D({self.point}, {self.width}, {self.height})\"\n",
    "    \n",
    "    def __eq__(self, other):\n",
    "        return self.point == other.point and self.width == other.width and self.height == other.height\n",
    "\n",
    "\n",
    "p1 = Point2D(0, 0)\n",
    "r1 = Rectangle2D(p1, 10, 20)\n",
    "r1.translate(5, 5)\n",
    "print(r1)\n",
    "print(r1.distance(r1))\n",
    "\n",
    "r2 = Rectangle2D(p1, 10, 20)\n",
    "print(r1 == r2)"
   ]
  },
  {
   "cell_type": "code",
   "execution_count": 103,
   "metadata": {},
   "outputs": [
    {
     "name": "stdout",
     "output_type": "stream",
     "text": [
      "\u001b[1;31mSignature:\u001b[0m \u001b[0ml\u001b[0m\u001b[1;33m.\u001b[0m\u001b[0msort\u001b[0m\u001b[1;33m(\u001b[0m\u001b[1;33m*\u001b[0m\u001b[1;33m,\u001b[0m \u001b[0mkey\u001b[0m\u001b[1;33m=\u001b[0m\u001b[1;32mNone\u001b[0m\u001b[1;33m,\u001b[0m \u001b[0mreverse\u001b[0m\u001b[1;33m=\u001b[0m\u001b[1;32mFalse\u001b[0m\u001b[1;33m)\u001b[0m\u001b[1;33m\u001b[0m\u001b[1;33m\u001b[0m\u001b[0m\n",
      "\u001b[1;31mDocstring:\u001b[0m\n",
      "Sort the list in ascending order and return None.\n",
      "\n",
      "The sort is in-place (i.e. the list itself is modified) and stable (i.e. the\n",
      "order of two equal elements is maintained).\n",
      "\n",
      "If a key function is given, apply it once to each list item and sort them,\n",
      "ascending or descending, according to their function values.\n",
      "\n",
      "The reverse flag can be set to sort in descending order.\n",
      "\u001b[1;31mType:\u001b[0m      builtin_function_or_method"
     ]
    }
   ],
   "source": [
    "l.sort?"
   ]
  },
  {
   "cell_type": "code",
   "execution_count": null,
   "metadata": {},
   "outputs": [],
   "source": []
  },
  {
   "cell_type": "code",
   "execution_count": 106,
   "metadata": {},
   "outputs": [],
   "source": [
    "def my_sum(l):\n",
    "    total = 0\n",
    "    for i in l:\n",
    "        total+=i\n",
    "    return total\n"
   ]
  },
  {
   "cell_type": "code",
   "execution_count": 108,
   "metadata": {},
   "outputs": [
    {
     "name": "stdout",
     "output_type": "stream",
     "text": [
      "790 ns ± 13.9 ns per loop (mean ± std. dev. of 7 runs, 1,000,000 loops each)\n"
     ]
    }
   ],
   "source": [
    "%%timeit\n",
    "my_sum([1,2,3,4,4,5,6,7,7])"
   ]
  },
  {
   "cell_type": "code",
   "execution_count": null,
   "metadata": {},
   "outputs": [],
   "source": [
    "# %% timeit for performance count\n",
    "# my sum is 790ns += 13.9 ns per loop, of 7 runs each runs 1,000,000 loops"
   ]
  },
  {
   "cell_type": "code",
   "execution_count": 146,
   "metadata": {},
   "outputs": [],
   "source": [
    "# EX3\n",
    "def is_palindrom(text: str) -> bool:\n",
    "    l_ptr = 0\n",
    "    r_ptr = len(text)-1\n",
    "    while l_ptr < r_ptr:\n",
    "        if text[l_ptr] != text[r_ptr]:\n",
    "            return False\n",
    "        l_ptr += 1\n",
    "        r_ptr -= 1\n",
    "    return True\n",
    "\n"
   ]
  },
  {
   "cell_type": "code",
   "execution_count": 147,
   "metadata": {},
   "outputs": [
    {
     "name": "stdout",
     "output_type": "stream",
     "text": [
      "abcdefggfedcba: is palindrom ? True\n",
      "12321: is palindrom ? True\n",
      "000000: is palindrom ? True\n",
      "123123123: is palindrom ? False\n",
      "222222222222222: is palindrom ? True\n",
      "abbaabba: is palindrom ? True\n"
     ]
    }
   ],
   "source": [
    "words = ['abcdefggfedcba','12321','000000','123123123','222222222222222','abbaabba']\n",
    "for word in words:\n",
    "    print(f'{word}: is palindrom ? {is_palindrom(word)}')"
   ]
  },
  {
   "cell_type": "code",
   "execution_count": null,
   "metadata": {},
   "outputs": [],
   "source": []
  },
  {
   "cell_type": "code",
   "execution_count": 152,
   "metadata": {},
   "outputs": [
    {
     "name": "stdout",
     "output_type": "stream",
     "text": [
      "333 ns ± 6.79 ns per loop (mean ± std. dev. of 7 runs, 1,000,000 loops each)\n"
     ]
    }
   ],
   "source": [
    "%%timeit\n",
    "word = '123123123'\n",
    "is_palindrom(word)"
   ]
  },
  {
   "cell_type": "code",
   "execution_count": 181,
   "metadata": {},
   "outputs": [],
   "source": [
    "s = 'abbaabba'\n",
    "def is_palindrom_v2(s):\n",
    "    l = len(s)//2\n",
    "    s1 = s[:l]\n",
    "    s2 = s[l:][::-1]\n",
    "    return s1 == s2\n",
    "\n"
   ]
  },
  {
   "cell_type": "code",
   "execution_count": 182,
   "metadata": {},
   "outputs": [
    {
     "name": "stdout",
     "output_type": "stream",
     "text": [
      "abcdefggfedcba: is palindrom ? True\n",
      "12321: is palindrom ? False\n",
      "000000: is palindrom ? True\n",
      "123123123: is palindrom ? False\n",
      "222222222222222: is palindrom ? False\n",
      "abbaabba: is palindrom ? True\n"
     ]
    }
   ],
   "source": [
    "words = ['abcdefggfedcba','12321','000000','123123123','222222222222222','abbaabba']\n",
    "for word in words:\n",
    "    print(f'{word}: is palindrom ? {is_palindrom_v2(word)}')"
   ]
  },
  {
   "attachments": {},
   "cell_type": "markdown",
   "metadata": {},
   "source": [
    "more about classees"
   ]
  },
  {
   "cell_type": "code",
   "execution_count": 191,
   "metadata": {},
   "outputs": [
    {
     "name": "stdout",
     "output_type": "stream",
     "text": [
      "{'_Point2D__x': 1, '_Point2D__y': 4}\n",
      "Point2D(1,4)\n"
     ]
    }
   ],
   "source": [
    "class Point2D:\n",
    "    def __init__(self,x,y) -> None:\n",
    "        self.__x = x\n",
    "        self.__y = y\n",
    "\n",
    "    def __repr__(self):\n",
    "        return f'Point2D({self.__x},{self.__y})'\n",
    "\n",
    "\n",
    "p = Point2D(1,4)\n",
    "#print(p.x) # AttributeError: 'Point2D' object has no attribute 'x'\n",
    "#print(p.__x) # AttributeError: 'Point2D' object has no attribute '__x'\n",
    "print(p.__dict__)\n",
    "print(p)"
   ]
  },
  {
   "cell_type": "code",
   "execution_count": 6,
   "metadata": {},
   "outputs": [
    {
     "name": "stdout",
     "output_type": "stream",
     "text": [
      "[Car(Toyota, 0.05, 0, 1000), Truck(Volvo, 0.1, 0, 1000, 0), Car(BMW, 0.07, 0, 2000), Truck(Man, 0.15, 0, 2000, 0)]\n",
      "[Car(Toyota, 0.05, 100, 1000), Truck(Volvo, 0.1, 100, 1000, 0), Car(BMW, 0.07, 100, 2000), Truck(Man, 0.15, 100, 2000, 0)]\n"
     ]
    }
   ],
   "source": [
    "class Car:\n",
    "    def __init__(self, model, consumption, capacity):\n",
    "        self.__model = model\n",
    "        self.__consumption = consumption\n",
    "        self.capacity = capacity\n",
    "        self.fuel = 0\n",
    "\n",
    "    def add_fuel(self, amount):\n",
    "        self.fuel += amount\n",
    "\n",
    "    def drive(self, distance):\n",
    "        self.fuel -= distance * self.__consumption\n",
    "    \n",
    "    def __repr__(self):\n",
    "        return f\"Car({self.__model}, {self.__consumption}, {self.fuel}, {self.capacity})\"\n",
    "\n",
    "\n",
    "class Truck(Car):\n",
    "    def __init__(self, *args):\n",
    "        super().__init__(*args)\n",
    "        self.load = 0\n",
    "\n",
    "    def add_load(self, amount):\n",
    "        self.load += amount\n",
    "\n",
    "    def drive(self, distance):\n",
    "        super().drive(distance)\n",
    "        self.load -= distance * 0.1\n",
    "\n",
    "    def __repr__(self):\n",
    "        return f\"Truck({self._Car__model}, {self._Car__consumption}, {self.fuel}, {self.capacity}, {self.load})\"\n",
    "\n",
    "def add_fuel_to_fleet(fleet, amount):\n",
    "    for car in fleet:\n",
    "        car.add_fuel(amount)\n",
    "\n",
    "def load_trucks_in_fleet(fleet, amount):\n",
    "    for car in fleet:\n",
    "        if isinstance(car, Truck):\n",
    "            car.add_load(amount)        \n",
    "\n",
    "fleet = [\n",
    "    Car(\"Toyota\", 0.05,1000),\n",
    "    Truck(\"Volvo\", 0.1, 1000),\n",
    "    Car(\"BMW\", 0.07,2000),\n",
    "    Truck(\"Man\", 0.15, 2000),\n",
    "]\n",
    "\n",
    "print(fleet)\n",
    "add_fuel_to_fleet(fleet, 100)\n",
    "print(fleet)\n",
    "load_trucks_in_fleet(fleet, 1000)\n",
    "\n",
    "\n"
   ]
  },
  {
   "cell_type": "code",
   "execution_count": null,
   "metadata": {},
   "outputs": [],
   "source": [
    "# EX4\n",
    "# fix the bugs in the Car and Truck classes\n",
    "# 1. add_fuel() should take into account the fuel tank capacity\n",
    "# 2. drive() should take into account the fuel left\n",
    "# 3. add_load() should take into account the load capacity\n",
    "# 4. drive() should take into account the load\n",
    "# implement class Bus that can drive like a car, \n",
    "# load and unload passengers"
   ]
  },
  {
   "cell_type": "code",
   "execution_count": null,
   "metadata": {},
   "outputs": [],
   "source": []
  }
 ],
 "metadata": {
  "kernelspec": {
   "display_name": "Python 3",
   "language": "python",
   "name": "python3"
  },
  "language_info": {
   "codemirror_mode": {
    "name": "ipython",
    "version": 3
   },
   "file_extension": ".py",
   "mimetype": "text/x-python",
   "name": "python",
   "nbconvert_exporter": "python",
   "pygments_lexer": "ipython3",
   "version": "3.11.2"
  },
  "orig_nbformat": 4,
  "vscode": {
   "interpreter": {
    "hash": "c261aea317cc0286b3b3261fbba9abdec21eaa57589985bb7a274bf54d6cc0a7"
   }
  }
 },
 "nbformat": 4,
 "nbformat_minor": 2
}
