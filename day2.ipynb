{
 "cells": [
  {
   "cell_type": "markdown",
   "metadata": {},
   "source": [
    "### Liskov Substitution Principle\n",
    "\n",
    "If S is a subtype of T, then objects of type T may be replaced with objects of type S without altering any of the desirable properties of the program (correctness, task performed, etc.)"
   ]
  },
  {
   "cell_type": "code",
   "execution_count": 3,
   "metadata": {},
   "outputs": [
    {
     "name": "stdout",
     "output_type": "stream",
     "text": [
      "Shape 2000\n",
      "Shape 1000\n"
     ]
    }
   ],
   "source": [
    "# the code bellow is not good\n",
    "\n",
    "class Shape:\n",
    "    def area(self):\n",
    "        raise NotImplementedError(\"Subclass must implement abstract method\")\n",
    "\n",
    "    def display(self):\n",
    "        print(\"Shape\", self.area())\n",
    "\n",
    "class Rectangle(Shape):\n",
    "    def __init__(self, width, height):\n",
    "        self.width = width\n",
    "        self.height = height\n",
    "\n",
    "    def area(self):\n",
    "        return self.width * self.height\n",
    "    \n",
    "class Square(Rectangle):\n",
    "    def __init__(self, side):\n",
    "        super().__init__(side, side)\n",
    "\n",
    "r1 = Rectangle(10, 20)\n",
    "r1.width = 100\n",
    "r1.display()\n",
    "s1 = Square(10)\n",
    "s1.width = 100\n",
    "s1.display()\n"
   ]
  },
  {
   "cell_type": "code",
   "execution_count": 4,
   "metadata": {},
   "outputs": [
    {
     "name": "stdout",
     "output_type": "stream",
     "text": [
      "Shape 2000\n",
      "Shape 10000\n"
     ]
    }
   ],
   "source": [
    "# the code bellow is not good\n",
    "\n",
    "class Shape:\n",
    "    def area(self):\n",
    "        raise NotImplementedError(\"Subclass must implement abstract method\")\n",
    "\n",
    "    def display(self):\n",
    "        print(\"Shape\", self.area())\n",
    "\n",
    "class Rectangle(Shape):\n",
    "    def __init__(self, width, height):\n",
    "        self.width = width\n",
    "        self.height = height\n",
    "\n",
    "    def area(self):\n",
    "        return self.width * self.height\n",
    "    \n",
    "class Square(Shape):\n",
    "    def __init__(self, side):\n",
    "        self.side = side\n",
    "\n",
    "    def area(self):\n",
    "        return self.side ** 2\n",
    "\n",
    "r1 = Rectangle(10, 20)\n",
    "r1.width = 100\n",
    "r1.display()\n",
    "s1 = Square(10)\n",
    "s1.side = 100\n",
    "s1.display()\n"
   ]
  },
  {
   "cell_type": "markdown",
   "metadata": {},
   "source": [
    "### closure"
   ]
  },
  {
   "cell_type": "code",
   "execution_count": 5,
   "metadata": {},
   "outputs": [
    {
     "name": "stdout",
     "output_type": "stream",
     "text": [
      "pew pew pew silver\n",
      "pew pew pew silver\n",
      "pew pew pew kryptonite\n",
      "pew pew pew kryptonite\n"
     ]
    },
    {
     "data": {
      "text/plain": [
       "function"
      ]
     },
     "execution_count": 5,
     "metadata": {},
     "output_type": "execute_result"
    }
   ],
   "source": [
    "def get_gun_with_bullets(bullet_type):\n",
    "    def gun():\n",
    "        print(f'pew pew pew {bullet_type}')\n",
    "    return gun\n",
    "\n",
    "anti_vampire_gun = get_gun_with_bullets('silver')\n",
    "anti_superman_gun = get_gun_with_bullets('kryptonite')\n",
    "anti_vampire_gun()\n",
    "anti_vampire_gun()\n",
    "anti_superman_gun()\n",
    "anti_superman_gun()\n",
    "type(anti_vampire_gun)"
   ]
  },
  {
   "cell_type": "markdown",
   "metadata": {},
   "source": [
    "### local nonlocal global"
   ]
  },
  {
   "cell_type": "code",
   "execution_count": 6,
   "metadata": {},
   "outputs": [],
   "source": [
    "def my_func1():\n",
    "    num1 = 10\n",
    "    return num1\n",
    "\n",
    "n = my_func1()\n",
    "# print(num1) # NameError: name 'num1' is not defined"
   ]
  },
  {
   "cell_type": "code",
   "execution_count": 7,
   "metadata": {},
   "outputs": [
    {
     "name": "stdout",
     "output_type": "stream",
     "text": [
      "42\n",
      "43\n"
     ]
    }
   ],
   "source": [
    "def my_func2():\n",
    "    print(num1)\n",
    "\n",
    "def my_func3():\n",
    "    num1 = 100\n",
    "    num1 += 1\n",
    "\n",
    "def my_func4():\n",
    "    num1 += 1\n",
    "\n",
    "def my_func5():\n",
    "    global num1\n",
    "    num1 += 1\n",
    "\n",
    "num1 = 42\n",
    "my_func2()\n",
    "my_func3()\n",
    "# my_func4() # UnboundLocalError: local variable 'num1' referenced before assignment\n",
    "my_func5()\n",
    "print(num1)"
   ]
  },
  {
   "cell_type": "code",
   "execution_count": 8,
   "metadata": {},
   "outputs": [
    {
     "name": "stdout",
     "output_type": "stream",
     "text": [
      "10\n",
      "inner 30\n",
      "outer 10\n",
      "inner 40\n",
      "outer 40\n",
      "inner 30\n",
      "outer 10\n",
      "global 30\n"
     ]
    }
   ],
   "source": [
    "# nonlocal\n",
    "\n",
    "def outer1():\n",
    "    num1 = 10\n",
    "    def inner():\n",
    "        print(num1)\n",
    "    inner()\n",
    "\n",
    "def outer2():\n",
    "    num1 = 10\n",
    "    def inner():\n",
    "        num1 = 30\n",
    "        print('inner', num1)\n",
    "    inner()\n",
    "    print('outer', num1)\n",
    "\n",
    "def outer3():\n",
    "    num1 = 10\n",
    "    def inner():\n",
    "        num1 += 30\n",
    "        print('inner', num1)\n",
    "    inner()\n",
    "    print('outer', num1)\n",
    "\n",
    "def outer4():\n",
    "    num1 = 10\n",
    "    def inner():\n",
    "        nonlocal num1\n",
    "        num1 += 30\n",
    "        print('inner', num1)\n",
    "    inner()\n",
    "    print('outer', num1)\n",
    "\n",
    "def outer5():\n",
    "    balagan = 10\n",
    "    def inner():\n",
    "        global balagan\n",
    "        balagan = 30\n",
    "        print('inner', balagan)\n",
    "    inner()\n",
    "    print('outer', balagan)\n",
    "\n",
    "\n",
    "outer1()\n",
    "outer2()\n",
    "# outer3() # UnboundLocalError: local variable 'num1' referenced before assignment\n",
    "outer4()\n",
    "outer5()\n",
    "print('global', balagan)"
   ]
  },
  {
   "cell_type": "markdown",
   "metadata": {},
   "source": [
    "### args kwargs"
   ]
  },
  {
   "cell_type": "code",
   "execution_count": 9,
   "metadata": {},
   "outputs": [
    {
     "name": "stdout",
     "output_type": "stream",
     "text": [
      "1 < 2 < 3\n",
      "1 < 2 < 3 < 4 < 5\n"
     ]
    }
   ],
   "source": [
    "print(1, 2, 3, sep=' < ')\n",
    "print(1, 2, 3, 4, 5, sep=' < ')"
   ]
  },
  {
   "cell_type": "code",
   "execution_count": 10,
   "metadata": {},
   "outputs": [
    {
     "name": "stdout",
     "output_type": "stream",
     "text": [
      "<class 'tuple'>\n",
      "15\n",
      "<class 'tuple'>\n",
      "55\n",
      "<class 'tuple'>\n",
      "15\n"
     ]
    }
   ],
   "source": [
    "def my_sum(*nums):\n",
    "    print(type(nums))\n",
    "    total = 0\n",
    "    for num in nums:\n",
    "        total += num\n",
    "    return total\n",
    "\n",
    "print(my_sum(1, 2, 3, 4, 5))\n",
    "print(my_sum(1, 2, 3, 4, 5, 6, 7, 8, 9, 10))\n",
    "lst = [1, 2, 3, 4, 5]\n",
    "print(my_sum(*lst)) # unpacking"
   ]
  },
  {
   "cell_type": "code",
   "execution_count": 11,
   "metadata": {},
   "outputs": [
    {
     "data": {
      "text/plain": [
       "3"
      ]
     },
     "execution_count": 11,
     "metadata": {},
     "output_type": "execute_result"
    }
   ],
   "source": [
    "sum([1,2])"
   ]
  },
  {
   "cell_type": "code",
   "execution_count": 12,
   "metadata": {},
   "outputs": [
    {
     "name": "stdout",
     "output_type": "stream",
     "text": [
      "(6, 'abc')\n",
      "(15, 'abcde')\n",
      "(6, 'abc')\n"
     ]
    }
   ],
   "source": [
    "def my_sum_and_concat(**kwargs):\n",
    "    sum = 0\n",
    "    concat = \"\"\n",
    "    for key, value in kwargs.items():\n",
    "        sum += value\n",
    "        concat += key\n",
    "    return sum, concat\n",
    "\n",
    "print(my_sum_and_concat(a=1, b=2, c=3))\n",
    "print(my_sum_and_concat(a=1, b=2, c=3, d=4, e=5))\n",
    "my_d = {\"a\": 1, \"b\": 2, \"c\": 3}\n",
    "print(my_sum_and_concat(**my_d)) # unpacking"
   ]
  },
  {
   "cell_type": "code",
   "execution_count": 13,
   "metadata": {},
   "outputs": [
    {
     "name": "stdout",
     "output_type": "stream",
     "text": [
      "<class 'dict'>\n",
      "{'a': 1, 'b': 2, 'c': 4, 'd': 5, 'e': 6}\n",
      "{'a': 1, 'b': 2, 'c': 4, 'd': 5, 'e': 6}\n"
     ]
    }
   ],
   "source": [
    "my_d1 = {'a':1, 'b':2, 'c':3}   \n",
    "my_d2 = {'c':4, 'd':5, 'e':6}\n",
    "my_d3 = {**my_d1, **my_d2}\n",
    "my_d4 = dict(my_d1, **my_d2)\n",
    "print(type(my_d4))\n",
    "my_d4.update(my_d1)\n",
    "my_d4.update(my_d2)\n",
    "print(my_d4)\n",
    "print(my_d4)"
   ]
  },
  {
   "cell_type": "code",
   "execution_count": 14,
   "metadata": {},
   "outputs": [
    {
     "name": "stdout",
     "output_type": "stream",
     "text": [
      "(1, 2, 3, 4, 5)\n",
      "{'a': 1, 'b': 2, 'c': 3}\n",
      "(1, 2)\n",
      "{}\n"
     ]
    }
   ],
   "source": [
    "def general_func(*args, **kwargs):\n",
    "    print(args)\n",
    "    print(kwargs)\n",
    "\n",
    "general_func(1, 2, 3, 4, 5, a=1, b=2, c=3)\n",
    "general_func(1, 2)"
   ]
  },
  {
   "cell_type": "code",
   "execution_count": 15,
   "metadata": {},
   "outputs": [
    {
     "name": "stdout",
     "output_type": "stream",
     "text": [
      "Load:  100\n",
      "Max speed:  200\n",
      "Load:  100\n",
      "Max speed:  200\n",
      "Load:  100\n",
      "Max speed:  200\n",
      "Passengers:  100\n",
      "Max speed:  200\n",
      "Load:  300\n",
      "Passengers:  100\n",
      "Max speed:  200\n",
      "Load:  300\n",
      "Passengers:  100\n",
      "Max speed:  200\n",
      "Load:  300\n"
     ]
    },
    {
     "data": {
      "text/plain": [
       "[True, True, True]"
      ]
     },
     "execution_count": 15,
     "metadata": {},
     "output_type": "execute_result"
    }
   ],
   "source": [
    "# infra code\n",
    "def run_test_n_times(n, test_func, *args, **kwargs):\n",
    "    stats = []\n",
    "    for i in range(n):\n",
    "        stats.append(test_func(*args, **kwargs))\n",
    "    return stats\n",
    "\n",
    "def car_load_test(load, max_speed):\n",
    "    print(\"Load: \", load)\n",
    "    print(\"Max speed: \", max_speed)\n",
    "    return True\n",
    "\n",
    "def car_crush_test(passengers, max_speed, load):\n",
    "    print(\"Passengers: \", passengers)\n",
    "    print(\"Max speed: \", max_speed)\n",
    "    print(\"Load: \", load)\n",
    "    return True\n",
    "\n",
    "run_test_n_times(3, car_load_test, 100, 200)\n",
    "run_test_n_times(3, car_crush_test, 100, 200, 300)"
   ]
  },
  {
   "cell_type": "markdown",
   "metadata": {},
   "source": [
    "### Decorators"
   ]
  },
  {
   "cell_type": "code",
   "execution_count": 16,
   "metadata": {},
   "outputs": [
    {
     "name": "stdout",
     "output_type": "stream",
     "text": [
      "******************\n",
      "Hello World\n",
      "******************\n",
      "******************\n",
      "Hello World asdf\n",
      "******************\n"
     ]
    }
   ],
   "source": [
    "def wrap_str_with_stars(func):\n",
    "    def inner(*args, **kwargs):\n",
    "        print(\"******************\")\n",
    "        func(*args, **kwargs)\n",
    "        print(\"******************\")\n",
    "    return inner\n",
    "\n",
    "@wrap_str_with_stars\n",
    "def print_str(str):\n",
    "    print(str)\n",
    "    \n",
    "@wrap_str_with_stars\n",
    "def print_args(*args):\n",
    "    print(*args)\n",
    "\n",
    "print_str(\"Hello World\")\n",
    "print_args(\"Hello World\", \"asdf\")"
   ]
  },
  {
   "cell_type": "code",
   "execution_count": 17,
   "metadata": {},
   "outputs": [
    {
     "name": "stdout",
     "output_type": "stream",
     "text": [
      "********************\n",
      "Hello student!\n",
      "********************\n",
      "**************\n",
      "Hello student!\n",
      "**************\n",
      "**************\n",
      "**************\n",
      "**************\n",
      "**************\n",
      "**************\n",
      "Hello student!\n",
      "**************\n",
      "**************\n",
      "**************\n",
      "**************\n",
      "**************\n",
      "\n"
     ]
    }
   ],
   "source": [
    "# EX1 star decorator\n",
    "# 1. create a decorator that adds 20 stars to the output of a function (no prints!!!)\n",
    "# result should be: \n",
    "# ********************\n",
    "# Hello student!\n",
    "# ********************\n",
    "# 2. create a decorator that adds stars to the output of a function and syncs \n",
    "# the stars to the length of the input\n",
    "# **************\n",
    "# Hello student!\n",
    "# **************\n",
    "# 3. add the ability to control the number of star lines\n",
    "# output can look like this:\n",
    "# **************\n",
    "# Hello student!\n",
    "# **************\n",
    "# or like this:\n",
    "# **************\n",
    "# **************\n",
    "# Hello student!\n",
    "# **************\n",
    "# **************\n",
    "\n",
    "def star_decorator_20(func):\n",
    "    def wrapper(*args, **kwargs):\n",
    "        return \"*\" * 20 + \"\\n\" + func(*args, **kwargs) + \"\\n\" + \"*\" * 20\n",
    "    return wrapper\n",
    "\n",
    "def star_decorator_sync_len(func):\n",
    "    def wrapper(*args, **kwargs):\n",
    "        res = func(*args, **kwargs)\n",
    "        return \"*\" * len(res) + \"\\n\" + res + \"\\n\" + \"*\" * len(res)\n",
    "    return wrapper\n",
    "\n",
    "def star_decorator_lines(lines):\n",
    "    def decorator(func):\n",
    "        def wrapper(*args, **kwargs):\n",
    "            res = func(*args, **kwargs)\n",
    "            stars = (\"*\" * len(res) + \"\\n\") * lines\n",
    "            return stars + res + \"\\n\" + stars\n",
    "        return wrapper\n",
    "    return decorator\n",
    "\n",
    "@star_decorator_20\n",
    "def hello_student1(name):\n",
    "    return f\"Hello {name}!\"\n",
    "\n",
    "@star_decorator_sync_len\n",
    "def hello_student2(name):\n",
    "    return f\"Hello {name}!\"\n",
    "\n",
    "@star_decorator_lines(5)\n",
    "def hello_student3(name):\n",
    "    return f\"Hello {name}!\"\n",
    "\n",
    "print(hello_student1(\"student\"))\n",
    "print(hello_student2(\"student\"))\n",
    "print(hello_student3(\"student\"))"
   ]
  },
  {
   "cell_type": "code",
   "execution_count": 18,
   "metadata": {},
   "outputs": [
    {
     "name": "stdout",
     "output_type": "stream",
     "text": [
      "1 2\n"
     ]
    }
   ],
   "source": [
    "# force named parameters\n",
    "def my_func(*, arg1, arg2):\n",
    "    print(arg1, arg2)\n",
    "\n",
    "my_func(arg1=1, arg2=2)\n",
    "# my_func(1,2) # TypeError: my_func() takes 0 positional arguments but 2 were given"
   ]
  },
  {
   "cell_type": "code",
   "execution_count": 19,
   "metadata": {},
   "outputs": [
    {
     "name": "stdout",
     "output_type": "stream",
     "text": [
      "['o', 'n']\n",
      "{'kiwi', 'cherry', 'banana', 'apple'}\n",
      "{'apple': 2, 'banana': 2, 'cherry': 1, 'kiwi': 1, 'mango': 1, 'melon': 1}\n"
     ]
    }
   ],
   "source": [
    "# comprehension\n",
    "# 1. list comprehension\n",
    "fruits = ['apple', 'banana', 'cherry', 'kiwi', 'mango', 'melon']\n",
    "last_letter_of_fruits_that_start_with_m = [f[-1] for f in fruits if f.startswith('m')]\n",
    "print(last_letter_of_fruits_that_start_with_m)\n",
    "\n",
    "# 2. set comprehension\n",
    "fruits = ['apple', 'banana', 'cherry', 'kiwi', 'mango', 'melon', 'apple', 'banana']\n",
    "rm_dup_fruits_and_not_start_with_m = {f for f in fruits if not f.startswith('m')}\n",
    "print(rm_dup_fruits_and_not_start_with_m)\n",
    "\n",
    "# 3. dict comprehension\n",
    "fruits = ['apple', 'banana', 'cherry', 'kiwi', 'mango', 'melon', 'apple', 'banana']\n",
    "fruit_freq = {f: fruits.count(f) for f in fruits}\n",
    "print(fruit_freq)"
   ]
  },
  {
   "cell_type": "markdown",
   "metadata": {},
   "source": [
    "### copy and deep copy"
   ]
  },
  {
   "cell_type": "code",
   "execution_count": 20,
   "metadata": {},
   "outputs": [
    {
     "name": "stdout",
     "output_type": "stream",
     "text": [
      "[0, 1]\n",
      "0\n"
     ]
    }
   ],
   "source": [
    "def my_func1(lst):\n",
    "    lst.append(1)\n",
    "\n",
    "def my_func2(num):\n",
    "    num += 1\n",
    "\n",
    "lst = [0]\n",
    "my_func1(lst)\n",
    "print(lst)\n",
    "num = 0\n",
    "my_func2(num)\n",
    "print(num)"
   ]
  },
  {
   "cell_type": "code",
   "execution_count": 21,
   "metadata": {},
   "outputs": [
    {
     "name": "stdout",
     "output_type": "stream",
     "text": [
      "[1, 0]\n",
      "[0, 0]\n",
      "[[0, 0], [1, 0]]\n",
      "[[0, 0], [0, 0]]\n"
     ]
    }
   ],
   "source": [
    "from copy import deepcopy\n",
    "\n",
    "ls1 = [0, 0]\n",
    "ls2 = ls1\n",
    "ls2[0] = 1\n",
    "print(ls1)\n",
    "\n",
    "ls1 = [0, 0]\n",
    "ls3 = ls1.copy()\n",
    "ls3[0] = 2\n",
    "print(ls1)\n",
    "\n",
    "ls1 = [[0, 0], [0, 0]]\n",
    "ls4 = ls1.copy() # this is a shallow copy\n",
    "ls4[0] = 1 # this will not change ls1\n",
    "ls4[1][0] = 1 # this will change ls1\n",
    "print(ls1)\n",
    "\n",
    "ls1 = [[0, 0], [0, 0]]\n",
    "ls5 = deepcopy(ls1) # this is a deep copy\n",
    "ls5[0] = 1 # this will not change ls1\n",
    "ls5[1][0] = 1 # this will not change ls1\n",
    "print(ls1)"
   ]
  },
  {
   "cell_type": "code",
   "execution_count": 22,
   "metadata": {},
   "outputs": [
    {
     "name": "stdout",
     "output_type": "stream",
     "text": [
      "rec {4576361088: []}\n",
      "point {}\n",
      "rec {4576361088: [Rectangle(Point(2, 0), 0, 0)], 4576304560: Rectangle(Point(2, 0), 0, 0), 4576358336: [Rectangle(Point(2, 2), 10, 5)]}\n",
      "point {}\n"
     ]
    }
   ],
   "source": [
    "from copy import deepcopy\n",
    "\n",
    "class Point:\n",
    "    def __init__(self, x, y):\n",
    "        self.x = x\n",
    "        self.y = y\n",
    "\n",
    "    def __repr__(self):\n",
    "        return f\"Point({self.x}, {self.y})\"\n",
    "\n",
    "    def __deepcopy__(self, memo):\n",
    "        print('point', memo)\n",
    "        return Point(self.x, 0)\n",
    "\n",
    "class Rectangle:\n",
    "    def __init__(self, p, w, h):\n",
    "        self.position = p\n",
    "        self.width = w\n",
    "        self.height = h\n",
    "\n",
    "    def __repr__(self):\n",
    "        return f\"Rectangle({self.position}, {self.width}, {self.height})\"\n",
    "\n",
    "    def __deepcopy__(self, memo):\n",
    "        print('rec', memo)\n",
    "        return Rectangle(deepcopy(self.position), 0, 0)\n",
    "\n",
    "points1 = [Rectangle(Point(2, 2), 10, 5), Rectangle(Point(1, 1), 5, 10)]\n",
    "points2 = deepcopy(points1)\n",
    "# points2\n"
   ]
  },
  {
   "cell_type": "markdown",
   "metadata": {},
   "source": [
    "### lambda"
   ]
  },
  {
   "cell_type": "code",
   "execution_count": 23,
   "metadata": {},
   "outputs": [
    {
     "name": "stdout",
     "output_type": "stream",
     "text": [
      "Hello World\n",
      "4\n",
      "9\n",
      "5\n",
      "7\n"
     ]
    }
   ],
   "source": [
    "(lambda : print(\"Hello World\"))() # lambda with no parameters\n",
    "my_func1 = lambda x: x**2 # lambda with one parameter\n",
    "print(my_func1(2))\n",
    "print(my_func1(3))\n",
    "my_func2 = lambda x,y: x+y # lambda with two parameters\n",
    "print(my_func2(2,3))\n",
    "print(my_func2(3,4))"
   ]
  },
  {
   "cell_type": "markdown",
   "metadata": {},
   "source": [
    "### functional programming"
   ]
  },
  {
   "cell_type": "code",
   "execution_count": 24,
   "metadata": {},
   "outputs": [
    {
     "name": "stdout",
     "output_type": "stream",
     "text": [
      "<class 'map'>\n",
      "[0, 1, 4, 9, 16]\n",
      "0 0\n",
      "1 1\n",
      "4 8\n",
      "9 27\n",
      "16 64\n",
      "[0, 1, 4, 9, 16]\n",
      "[0, 1, 8, 27, 64]\n"
     ]
    }
   ],
   "source": [
    "# map \n",
    "print(type(map(lambda x: x**2, range(5))))\n",
    "print(list(map(lambda x: x**2, range(5))))\n",
    "m2 = map(lambda x: x**2, range(5))\n",
    "m3 = map(lambda x: x**3, range(5))\n",
    "for i in m2:\n",
    "    j = next(m3)\n",
    "    print(i, j)\n",
    "    \n",
    "m2 = map(lambda x: x**2, range(5))\n",
    "m3 = map(lambda x: x**3, range(5))\n",
    "print(list(m2))\n",
    "print(list(m3))"
   ]
  },
  {
   "cell_type": "code",
   "execution_count": 25,
   "metadata": {},
   "outputs": [
    {
     "name": "stdout",
     "output_type": "stream",
     "text": [
      "[0, 2, 4, 6, 8]\n"
     ]
    }
   ],
   "source": [
    "# filter\n",
    "print(list(filter(lambda x: x % 2 == 0, range(10))))    "
   ]
  },
  {
   "cell_type": "code",
   "execution_count": 26,
   "metadata": {},
   "outputs": [
    {
     "name": "stdout",
     "output_type": "stream",
     "text": [
      "1 1\n",
      "2 2\n",
      "3 3\n",
      "4 4\n",
      "5 5\n"
     ]
    }
   ],
   "source": [
    "l1 = [1,2,3,4,5]\n",
    "l2 = [1,2,3,4,5]\n",
    "\n",
    "it = iter(l2)\n",
    "for i in l1:\n",
    "    j = next(it)\n",
    "    print(i,j)"
   ]
  },
  {
   "cell_type": "markdown",
   "metadata": {},
   "source": [
    "# generator"
   ]
  },
  {
   "cell_type": "code",
   "execution_count": 27,
   "metadata": {},
   "outputs": [
    {
     "name": "stdout",
     "output_type": "stream",
     "text": [
      "<class 'generator'>\n",
      "gen 1\n",
      "1\n",
      "gen 2\n",
      "2\n",
      "gen 3\n",
      "3\n"
     ]
    }
   ],
   "source": [
    "def my_generator():\n",
    "    print('gen', 1)\n",
    "    yield 1\n",
    "    print('gen', 2)\n",
    "    yield 2\n",
    "    print('gen', 3)\n",
    "    yield 3\n",
    "fn = my_generator()\n",
    "print(type(fn)) \n",
    "for i in my_generator():\n",
    "    print(i)"
   ]
  },
  {
   "cell_type": "code",
   "execution_count": 28,
   "metadata": {},
   "outputs": [
    {
     "name": "stdout",
     "output_type": "stream",
     "text": [
      "0 1 2 3 4 5 6 7 8 9 10 11 12 13 14 15 16 17 18 19 \n",
      "20 22 24 26 28 30 32 34 36 38 "
     ]
    }
   ],
   "source": [
    "def gen_even():\n",
    "    i = 0\n",
    "    while True:\n",
    "        yield i\n",
    "        i += 2\n",
    "\n",
    "def gen_odd():\n",
    "    i = 1\n",
    "    while True:\n",
    "        yield i\n",
    "        i += 2\n",
    "\n",
    "\n",
    "ge = gen_even()\n",
    "go = gen_odd()\n",
    "for i in range(10):\n",
    "    print(next(ge), end=' ')\n",
    "    print(next(go), end=' ')\n",
    "print()\n",
    "for i in range(10):\n",
    "    print(next(ge), end=' ')"
   ]
  },
  {
   "cell_type": "code",
   "execution_count": 29,
   "metadata": {},
   "outputs": [
    {
     "name": "stdout",
     "output_type": "stream",
     "text": [
      "0 1 1 2 3 5 8 13 21 34 "
     ]
    }
   ],
   "source": [
    "# EX2 Fibonacci Sequence with generator\n",
    "# 0, 1, 1, 2, 3, 5, 8, 13, 21, 34, ...\n",
    "def fib():\n",
    "    a, b = 0, 1\n",
    "    while True:\n",
    "        yield a\n",
    "        a, b = b, a+b\n",
    "\n",
    "f = fib()\n",
    "for i in range(10):\n",
    "    print(next(f), end=' ')"
   ]
  },
  {
   "cell_type": "code",
   "execution_count": 30,
   "metadata": {},
   "outputs": [
    {
     "name": "stdout",
     "output_type": "stream",
     "text": [
      "0 1 1 2 3 5 8 13 21 34 "
     ]
    }
   ],
   "source": [
    "# iterator\n",
    "class FibIterator:\n",
    "    def __init__(self, n):\n",
    "        self.n = n\n",
    "        self.current = 0\n",
    "        self.num1 = 0\n",
    "        self.num2 = 1\n",
    "    \n",
    "    def __next__(self):\n",
    "        if self.current < self.n:\n",
    "            num = self.num1\n",
    "            self.num1, self.num2 = self.num2, self.num1 + self.num2\n",
    "            self.current += 1\n",
    "            return num\n",
    "        else:\n",
    "            raise StopIteration\n",
    "    \n",
    "    def __iter__(self):\n",
    "        return self\n",
    "\n",
    "for i in FibIterator(10):\n",
    "    print(i, end=' ')\n"
   ]
  },
  {
   "cell_type": "code",
   "execution_count": 36,
   "metadata": {},
   "outputs": [
    {
     "name": "stdout",
     "output_type": "stream",
     "text": [
      "0 1 2 3 4 5 6 7 8 9 \n"
     ]
    },
    {
     "name": "stdout",
     "output_type": "stream",
     "text": [
      "19\n",
      "20 21 22 23 24 25 26 27 28 29 "
     ]
    }
   ],
   "source": [
    "# yield with send\n",
    "# https://www.youtube.com/watch?v=5-qadlG7tWo\n",
    "\n",
    "def bumpable_range():\n",
    "    counter = 0\n",
    "    while True:\n",
    "        bump = yield counter\n",
    "        if bump is not None:\n",
    "            counter += bump\n",
    "        else:\n",
    "            counter += 1\n",
    "\n",
    "b_range = bumpable_range()\n",
    "for i in range(10):\n",
    "    print(next(b_range), end=' ')\n",
    "print()\n",
    "print(b_range.send(10))\n",
    "for i in range(10):\n",
    "    print(next(b_range), end=' ')\n"
   ]
  },
  {
   "cell_type": "markdown",
   "metadata": {},
   "source": [
    "### asyncio"
   ]
  },
  {
   "cell_type": "code",
   "execution_count": 39,
   "metadata": {},
   "outputs": [
    {
     "name": "stdout",
     "output_type": "stream",
     "text": [
      "Starting a\n",
      "Finished a\n"
     ]
    }
   ],
   "source": [
    "import asyncio as aio\n",
    "\n",
    "async def work(link):\n",
    "    print(f\"Starting {link}\")\n",
    "    await aio.sleep(1)\n",
    "    print(f\"Finished {link}\")\n",
    "\n",
    "await work('a')"
   ]
  },
  {
   "cell_type": "code",
   "execution_count": 44,
   "metadata": {},
   "outputs": [
    {
     "name": "stdout",
     "output_type": "stream",
     "text": [
      "b'\"website\" '\n",
      "b'um-scale=1'\n",
      "b'=device-he'\n",
      "b'content= \"'\n",
      "b' initial-s'\n",
      "b'eta proper'\n",
      "b':type\" con'\n",
      "b'le=1.0, mi'\n",
      "b':url\" cont'\n",
      "b'content= \"'\n",
      "b'  <meta pr'\n"
     ]
    }
   ],
   "source": [
    "import aiohttp\n",
    "\n",
    "links = [\n",
    "    \"https://stackoverflow.com/questions/37575120/no-output-from-process-using-multiprocessing\",\n",
    "    \"https://stackoverflow.com/questions/3294889/iterating-over-dictionaries-using-for-loops?rq=1\",\n",
    "    \"https://stackoverflow.com/questions/21319774/python-iterating-over-dictionaries?rq=3\",\n",
    "    \"https://stackoverflow.com/questions/17063458/reading-an-excel-file-in-python-using-pandas\",\n",
    "    \"https://stackoverflow.com/questions/26521266/using-pandas-to-pd-read-excel-for-multiple-worksheets-of-the-same-workbook\",\n",
    "    \"https://stackoverflow.com/questions/72125238/reading-an-excel-sheet-with-pandas-while-maintaining-the-original-unrounded-v\",\n",
    "    \"https://stackoverflow.com/questions/73492307/multithread-application-in-python-flask\",\n",
    "    \"https://stackoverflow.com/questions/44144598/flask-multithreading-with-python\",\n",
    "    \"https://stackoverflow.com/questions/68126489/what-is-the-recommendation-about-using-multiprocessing-or-multithreading-insid\",\n",
    "    \"https://stackoverflow.com/questions/14814201/can-i-serve-multiple-clients-using-just-flask-app-run-as-standalone\",\n",
    "    \"https://stackoverflow.com/questions/60138862/using-flask-in-a-class-and-threading-process\",\n",
    "]\n",
    "\n",
    "async def fetch(session, url):\n",
    "        async with session.get(url) as response:\n",
    "            print((await response.read())[1000:1010])\n",
    "\n",
    "async def main():\n",
    "    async with aiohttp.ClientSession() as session:\n",
    "        tasks = []\n",
    "        for link in links:\n",
    "            tasks.append(fetch(session, link))\n",
    "        await aio.gather(*tasks)\n",
    "\n",
    "await main()"
   ]
  },
  {
   "cell_type": "code",
   "execution_count": 88,
   "metadata": {},
   "outputs": [
    {
     "name": "stdout",
     "output_type": "stream",
     "text": [
      "['https://stackoverflow.com', 'https://stackoverflow.co/', 'https://stackoverflow.co/teams/', 'https://stackoverflow.co/teams/', 'https://stackoverflow.co/talent/', 'https://stackoverflow.co/advertising/', 'https://stackoverflow.co/labs/', 'https://stackoverflow.co/', 'https://stackoverflow.com', 'https://stackoverflow.com', 'https://stackoverflow.com/help', 'https://chat.stackoverflow.com/?tab=site&amp;host=stackoverflow.com', 'https://meta.stackoverflow.com', 'https://stackoverflow.com/users/signup?ssrc=site_switcher&amp;returnurl=https%3a%2f%2fstackoverflow.com%2fquestions%2f14814201%2fcan-i-serve-multiple-clients-using-just-flask-app-run-as-standalone', 'https://stackoverflow.com/users/login?ssrc=site_switcher&amp;returnurl=https%3a%2f%2fstackoverflow.com%2fquestions%2f14814201%2fcan-i-serve-multiple-clients-using-just-flask-app-run-as-standalone', 'https://stackoverflow.blog', 'https://stackoverflow.com/users/login?ssrc=head&returnurl=https%3a%2f%2fstackoverflow.com%2fquestions%2f14814201%2fcan-i-serve-multiple-clients-using-just-flask-app-run-as-standalone', 'https://stackoverflow.com/users/signup?ssrc=head&returnurl=https%3a%2f%2fstackoverflow.com%2fquestions%2f14814201%2fcan-i-serve-multiple-clients-using-just-flask-app-run-as-standalone', 'https://try.stackoverflow.co/why-teams/?utm_source=so-owned&amp;utm_medium=side-bar&amp;utm_campaign=campaign-38&amp;utm_content=cta', 'https://stackoverflow.co/teams/', 'https://stackoverflowteams.com/teams/create/free/?utm_source=so-owned&amp;utm_medium=side-bar&amp;utm_campaign=campaign-38&amp;utm_content=cta', 'https://stackoverflow.co/teams/', 'https://stackoverflow.blog/2023/08/01/from-startup-to-google-and-back-again-ep-595/', 'https://stackoverflow.blog/2023/08/02/how-engineering-teams-at-a-large-org-can-move-at-startup-speed/', 'https://meta.stackoverflow.com/questions/421831/temporary-policy-generative-ai-e-g-chatgpt-is-banned', 'https://meta.stackoverflow.com/questions/425872/collections-a-new-feature-for-collectives-on-stack-overflow', 'https://meta.stackoverflow.com/questions/425766/preview-of-search-and-question-asking-powered-by-genai', 'https://stackoverflow.com/questions/76821151/check-monotonically-increasing-per-row', 'https://stackoverflow.com', 'https://stackoverflow.com', 'https://stackoverflow.co/', 'https://stackoverflow.co/teams/', 'https://stackoverflow.co/advertising/', 'https://stackoverflow.co/collectives/', 'https://stackoverflow.co/talent/', 'https://www.facebook.com/officialstackoverflow/', 'https://twitter.com/stackoverflow', 'https://www.instagram.com/thestackoverflow', 'https://stackoverflow.com/help/licensing', 'https://stackoverflow.com/legal/cookie-policy']\n",
      "[]\n"
     ]
    }
   ],
   "source": [
    "import re\n",
    "\n",
    "regex = re.compile(r'<a +href=[\\'\"]?([^\\'\" >]+)')\n",
    "\n",
    "def find_link_in_html(html):\n",
    "    for match in re.finditer(regex, html):\n",
    "        link = match.group(1)\n",
    "        if 'stackoverflow' in link:\n",
    "            yield link\n",
    "\n",
    "\n",
    "html1 = \"\"\"\n",
    "<html>\n",
    "    <body>\n",
    "        <a href=\"http://www.google.com\">Google</a>\n",
    "        <a href=\"http://www.facebook.com\">Facebook</a>\n",
    "    </body>\n",
    "</html>\n",
    "\"\"\"\n",
    "with open(\"tmp.html\", \"r\") as f:\n",
    "    html = f.read()\n",
    "    print(list(find_link_in_html(html)))\n",
    "\n",
    "print(list(find_link_in_html(html1)))"
   ]
  },
  {
   "cell_type": "code",
   "execution_count": 89,
   "metadata": {},
   "outputs": [],
   "source": [
    "counter = 0\n",
    "\n",
    "async def main():\n",
    "    async with aiohttp.ClientSession() as session:\n",
    "        tasks = []\n",
    "        for link in links:\n",
    "            tasks.append(get_lv1(session, link))\n",
    "        await aio.gather(*tasks)\n",
    "\n",
    "async def get_lv1(session, url):\n",
    "    global counter\n",
    "    html = await fetch(session, url)\n",
    "    for link in find_link_in_html(str(html)):\n",
    "        counter += 1\n",
    "        await get_lv2(session, link)\n",
    "\n",
    "async def get_lv2(session, url):\n",
    "    global counter\n",
    "    html = await fetch(session, url)\n",
    "    for link in find_link_in_html(str(html)):\n",
    "        counter += 1\n",
    "\n",
    "async def fetch(session, url):\n",
    "    async with session.get(url) as response:\n",
    "        return await response.read()\n",
    "\n",
    "await main()\n",
    "print(counter)"
   ]
  },
  {
   "cell_type": "code",
   "execution_count": null,
   "metadata": {},
   "outputs": [],
   "source": []
  },
  {
   "cell_type": "code",
   "execution_count": null,
   "metadata": {},
   "outputs": [],
   "source": [
    "# soup = BeautifulSoup(html, 'html.parser') # TODO: parse html"
   ]
  },
  {
   "cell_type": "code",
   "execution_count": 32,
   "metadata": {},
   "outputs": [],
   "source": [
    "\n",
    "\n",
    "# iterator"
   ]
  },
  {
   "cell_type": "code",
   "execution_count": null,
   "metadata": {},
   "outputs": [],
   "source": []
  }
 ],
 "metadata": {
  "kernelspec": {
   "display_name": "Python 3",
   "language": "python",
   "name": "python3"
  },
  "language_info": {
   "codemirror_mode": {
    "name": "ipython",
    "version": 3
   },
   "file_extension": ".py",
   "mimetype": "text/x-python",
   "name": "python",
   "nbconvert_exporter": "python",
   "pygments_lexer": "ipython3",
   "version": "3.10.6"
  },
  "orig_nbformat": 4
 },
 "nbformat": 4,
 "nbformat_minor": 2
}
