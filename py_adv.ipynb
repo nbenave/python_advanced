{
  "nbformat": 4,
  "nbformat_minor": 0,
  "metadata": {
    "colab": {
      "provenance": [],
      "toc_visible": true,
      "authorship_tag": "ABX9TyMDgeoCl4VM/itUR9VwfV1M",
      "include_colab_link": true
    },
    "kernelspec": {
      "name": "python3",
      "display_name": "Python 3"
    },
    "language_info": {
      "name": "python"
    }
  },
  "cells": [
    {
      "cell_type": "markdown",
      "metadata": {
        "id": "view-in-github",
        "colab_type": "text"
      },
      "source": [
        "<a href=\"https://colab.research.google.com/github/nbenave/python_advanced/blob/main/py_adv.ipynb\" target=\"_parent\"><img src=\"https://colab.research.google.com/assets/colab-badge.svg\" alt=\"Open In Colab\"/></a>"
      ]
    },
    {
      "cell_type": "markdown",
      "source": [
        "## Function arguments and star (* , **) operator"
      ],
      "metadata": {
        "id": "L_0j_6JCgp9_"
      }
    },
    {
      "cell_type": "code",
      "execution_count": null,
      "metadata": {
        "id": "D8pVsZw6ggOG"
      },
      "outputs": [],
      "source": [
        "def my_func(var_a,var_b,var_c):\n",
        "  print(var_a,var_b,var_c)"
      ]
    },
    {
      "cell_type": "code",
      "source": [
        "my_func(1,2,3)"
      ],
      "metadata": {
        "colab": {
          "base_uri": "https://localhost:8080/"
        },
        "id": "AEioA9DNjVJi",
        "outputId": "28614d50-8866-469f-ab88-28d8c112da5f"
      },
      "execution_count": null,
      "outputs": [
        {
          "output_type": "stream",
          "name": "stdout",
          "text": [
            "1 2 3\n"
          ]
        }
      ]
    },
    {
      "cell_type": "code",
      "source": [
        "my_func(var_a=1,var_b=2,var_c=3)"
      ],
      "metadata": {
        "colab": {
          "base_uri": "https://localhost:8080/"
        },
        "id": "QMWWudKFjVQI",
        "outputId": "a40d4253-d0af-4210-893f-5aa7d752a719"
      },
      "execution_count": null,
      "outputs": [
        {
          "output_type": "stream",
          "name": "stdout",
          "text": [
            "1 2 3\n"
          ]
        }
      ]
    },
    {
      "cell_type": "code",
      "source": [
        "l = [1,2,3]\n",
        "my_func(*l)"
      ],
      "metadata": {
        "colab": {
          "base_uri": "https://localhost:8080/"
        },
        "id": "_n-ZAjHJjVSe",
        "outputId": "cdf60564-7ebf-42bc-9c36-a8a7e7d7e0a0"
      },
      "execution_count": null,
      "outputs": [
        {
          "output_type": "stream",
          "name": "stdout",
          "text": [
            "1 2 3\n"
          ]
        }
      ]
    },
    {
      "cell_type": "code",
      "source": [],
      "metadata": {
        "id": "9QH8924MlSNu"
      },
      "execution_count": null,
      "outputs": []
    },
    {
      "cell_type": "code",
      "source": [
        "def my_func(var_a,var_b,var_c,*args):\n",
        "  print(var_a,var_b,var_c)\n",
        "  print(args)"
      ],
      "metadata": {
        "id": "DuTLYFISjVU3"
      },
      "execution_count": null,
      "outputs": []
    },
    {
      "cell_type": "code",
      "source": [
        "my_func(*l)"
      ],
      "metadata": {
        "colab": {
          "base_uri": "https://localhost:8080/"
        },
        "id": "THbwd65Uk9KT",
        "outputId": "17f443a2-9839-4af3-9f82-3d03bbc7a073"
      },
      "execution_count": null,
      "outputs": [
        {
          "output_type": "stream",
          "name": "stdout",
          "text": [
            "1 2 3\n",
            "()\n"
          ]
        }
      ]
    },
    {
      "cell_type": "code",
      "source": [
        "my_func(*l,l)"
      ],
      "metadata": {
        "colab": {
          "base_uri": "https://localhost:8080/"
        },
        "id": "4mqsoYunll3w",
        "outputId": "1c18ba61-4657-42a9-a0a0-ceeb2cb54c83"
      },
      "execution_count": null,
      "outputs": [
        {
          "output_type": "stream",
          "name": "stdout",
          "text": [
            "1 2 3\n",
            "([1, 2, 3],)\n"
          ]
        }
      ]
    },
    {
      "cell_type": "code",
      "source": [
        "my_func(*l,l,l,l,l)"
      ],
      "metadata": {
        "colab": {
          "base_uri": "https://localhost:8080/"
        },
        "id": "4QWXSKiOll66",
        "outputId": "5d6dd256-b378-47ca-d414-6744c2ca040c"
      },
      "execution_count": null,
      "outputs": [
        {
          "output_type": "stream",
          "name": "stdout",
          "text": [
            "1 2 3\n",
            "([1, 2, 3], [1, 2, 3], [1, 2, 3], [1, 2, 3])\n"
          ]
        }
      ]
    },
    {
      "cell_type": "code",
      "source": [
        "my_func(*l,*l,*l,*l)"
      ],
      "metadata": {
        "colab": {
          "base_uri": "https://localhost:8080/"
        },
        "id": "cBXrjZm0k9M3",
        "outputId": "9b9544d7-a351-450a-d59e-101136ebfcaf"
      },
      "execution_count": null,
      "outputs": [
        {
          "output_type": "stream",
          "name": "stdout",
          "text": [
            "1 2 3\n",
            "(1, 2, 3, 1, 2, 3, 1, 2, 3)\n"
          ]
        }
      ]
    },
    {
      "cell_type": "code",
      "source": [
        "def my_func(var_a,var_b,var_c,*args,**kwargs):\n",
        "  print(var_a,var_b,var_c)\n",
        "  print(args)\n",
        "  print(kwargs)"
      ],
      "metadata": {
        "id": "DiEom27_k9Pa"
      },
      "execution_count": null,
      "outputs": []
    },
    {
      "cell_type": "code",
      "source": [
        "my_func(1,2,3,l,l,l,l,a='a',b='b')"
      ],
      "metadata": {
        "colab": {
          "base_uri": "https://localhost:8080/"
        },
        "id": "kpFVlmzUk9Rd",
        "outputId": "46c8d46e-11d0-4dcf-cc3f-849f900be66c"
      },
      "execution_count": null,
      "outputs": [
        {
          "output_type": "stream",
          "name": "stdout",
          "text": [
            "1 2 3\n",
            "([1, 2, 3], [1, 2, 3], [1, 2, 3], [1, 2, 3])\n",
            "{'a': 'a', 'b': 'b'}\n"
          ]
        }
      ]
    },
    {
      "cell_type": "code",
      "source": [
        "d = {'a':'a','b':'b'}\n",
        "my_func(1,2,3,l,l,l,l,**d)"
      ],
      "metadata": {
        "colab": {
          "base_uri": "https://localhost:8080/"
        },
        "id": "BU10QENhmraD",
        "outputId": "ae6071be-41e5-4525-d671-a81f420ea703"
      },
      "execution_count": null,
      "outputs": [
        {
          "output_type": "stream",
          "name": "stdout",
          "text": [
            "1 2 3\n",
            "([1, 2, 3], [1, 2, 3], [1, 2, 3], [1, 2, 3])\n",
            "{'a': 'a', 'b': 'b'}\n"
          ]
        }
      ]
    },
    {
      "cell_type": "markdown",
      "source": [
        "# Dictionaries\n"
      ],
      "metadata": {
        "id": "WWGNMBRLoSrp"
      }
    },
    {
      "cell_type": "code",
      "source": [
        "d = {'10':1,'20':2}\n",
        "print(*d)"
      ],
      "metadata": {
        "colab": {
          "base_uri": "https://localhost:8080/"
        },
        "id": "X8amKkwpm296",
        "outputId": "e15043c7-960c-4893-d641-cd79edb8433e"
      },
      "execution_count": null,
      "outputs": [
        {
          "output_type": "stream",
          "name": "stdout",
          "text": [
            "10 20\n"
          ]
        }
      ]
    },
    {
      "cell_type": "code",
      "source": [
        "d = {'10':1,'20':2}\n",
        "print(*(d.values()))"
      ],
      "metadata": {
        "colab": {
          "base_uri": "https://localhost:8080/"
        },
        "id": "D_gB81lZnEw9",
        "outputId": "a64e9212-8dcc-40d1-f7c3-b6c39cb178cc"
      },
      "execution_count": null,
      "outputs": [
        {
          "output_type": "stream",
          "name": "stdout",
          "text": [
            "1 2\n"
          ]
        }
      ]
    },
    {
      "cell_type": "code",
      "source": [
        "{**d}"
      ],
      "metadata": {
        "colab": {
          "base_uri": "https://localhost:8080/"
        },
        "id": "PSze1p4sndan",
        "outputId": "f1455eda-a395-433e-d2e7-d7c4f309cc09"
      },
      "execution_count": null,
      "outputs": [
        {
          "output_type": "execute_result",
          "data": {
            "text/plain": [
              "{'10': 1, '20': 2}"
            ]
          },
          "metadata": {},
          "execution_count": 60
        }
      ]
    },
    {
      "cell_type": "code",
      "source": [
        "d1 = {'1':1,'2':2,'3':3,'10':10}\n",
        "d2 = {'10':10,'20':20,'30':30}"
      ],
      "metadata": {
        "id": "VzdvoCBfnO0K"
      },
      "execution_count": null,
      "outputs": []
    },
    {
      "cell_type": "code",
      "source": [],
      "metadata": {
        "id": "Q3IjkFdgncCK"
      },
      "execution_count": null,
      "outputs": []
    },
    {
      "cell_type": "code",
      "source": [
        "d3 = {**d1,**d2}\n",
        "d3"
      ],
      "metadata": {
        "colab": {
          "base_uri": "https://localhost:8080/"
        },
        "id": "pibzljc2nO2p",
        "outputId": "211b8d5f-0c6a-4d4d-f7fb-9ba3d3005677"
      },
      "execution_count": null,
      "outputs": [
        {
          "output_type": "execute_result",
          "data": {
            "text/plain": [
              "{'1': 1, '2': 2, '3': 3, '10': 10, '20': 20, '30': 30}"
            ]
          },
          "metadata": {},
          "execution_count": 50
        }
      ]
    },
    {
      "cell_type": "code",
      "source": [
        "d3 = {**d1, 'foo':'bar',**d2}\n",
        "d3"
      ],
      "metadata": {
        "colab": {
          "base_uri": "https://localhost:8080/"
        },
        "id": "P-nBfbEYoED6",
        "outputId": "660bba7b-5cb9-4054-feee-f972576f8cb5"
      },
      "execution_count": null,
      "outputs": [
        {
          "output_type": "execute_result",
          "data": {
            "text/plain": [
              "{'1': 1, '2': 2, '3': 3, '10': 10, 'foo': 'bar', '20': 20, '30': 30}"
            ]
          },
          "metadata": {},
          "execution_count": 64
        }
      ]
    },
    {
      "cell_type": "code",
      "source": [
        "d3 = dict()\n",
        "d3 = d1 | d2\n",
        "\n",
        "d3"
      ],
      "metadata": {
        "colab": {
          "base_uri": "https://localhost:8080/"
        },
        "id": "zz1162_EnPO-",
        "outputId": "874a31d3-f32b-4ba0-d3e6-a365f8fca5c3"
      },
      "execution_count": null,
      "outputs": [
        {
          "output_type": "execute_result",
          "data": {
            "text/plain": [
              "{'1': 1, '2': 2, '3': 3, '10': 10, '20': 20, '30': 30}"
            ]
          },
          "metadata": {},
          "execution_count": 65
        }
      ]
    },
    {
      "cell_type": "code",
      "source": [
        "d3 = d1 | d2 | {'100':100}\n",
        "d3"
      ],
      "metadata": {
        "colab": {
          "base_uri": "https://localhost:8080/"
        },
        "id": "AiwCqpeMnPQ-",
        "outputId": "24ad438d-dfa4-4c38-ce08-e101bae0a5fd"
      },
      "execution_count": null,
      "outputs": [
        {
          "output_type": "execute_result",
          "data": {
            "text/plain": [
              "{'1': 1, '2': 2, '3': 3, '10': 10, '20': 20, '30': 30, '100': 100}"
            ]
          },
          "metadata": {},
          "execution_count": 67
        }
      ]
    },
    {
      "cell_type": "code",
      "source": [
        "d1.update(d2)\n",
        "d1"
      ],
      "metadata": {
        "id": "3SD7bzBLoQpM",
        "colab": {
          "base_uri": "https://localhost:8080/"
        },
        "outputId": "d9872628-f255-4b32-a8af-44d5472bc68b"
      },
      "execution_count": 76,
      "outputs": [
        {
          "output_type": "execute_result",
          "data": {
            "text/plain": [
              "{'1': 1, '2': 2, '3': 3, '10': 10, '20': 20, '30': 30}"
            ]
          },
          "metadata": {},
          "execution_count": 76
        }
      ]
    },
    {
      "cell_type": "code",
      "source": [
        "#Ordered dict in Python version 2.7 consumes more memory than normal dict\n",
        "#Starting from Python 3.7, insertion order of Python dictionaries is guarantee\n",
        "#important, when implementing LRU using dict the ordered can be helpful"
      ],
      "metadata": {
        "id": "4au-RsJAtKqM"
      },
      "execution_count": null,
      "outputs": []
    },
    {
      "cell_type": "code",
      "source": [
        "d1 = dict()\n",
        "d1['1'] = 1\n",
        "d1['2'] = 2\n",
        "d1['3'] = 3\n",
        "d1"
      ],
      "metadata": {
        "colab": {
          "base_uri": "https://localhost:8080/"
        },
        "id": "wk7bxQWAtKu6",
        "outputId": "ea778247-9700-4b25-d611-9272c4f7bafc"
      },
      "execution_count": 77,
      "outputs": [
        {
          "output_type": "execute_result",
          "data": {
            "text/plain": [
              "{'1': 1, '2': 2, '3': 3}"
            ]
          },
          "metadata": {},
          "execution_count": 77
        }
      ]
    },
    {
      "cell_type": "code",
      "source": [
        "# defaultdict\n",
        "d = dict()\n",
        "try:\n",
        "  d['key1']\n",
        "except KeyError as ke:\n",
        "  print(f'Key {ke} not found')"
      ],
      "metadata": {
        "colab": {
          "base_uri": "https://localhost:8080/"
        },
        "id": "YsG43iJ_tKxU",
        "outputId": "aa56f640-83cb-441f-e21f-cc2a2e86d894"
      },
      "execution_count": 83,
      "outputs": [
        {
          "output_type": "stream",
          "name": "stdout",
          "text": [
            "Key value 'key1' not found\n"
          ]
        }
      ]
    },
    {
      "cell_type": "code",
      "source": [
        "print(d.get('key1'))"
      ],
      "metadata": {
        "colab": {
          "base_uri": "https://localhost:8080/"
        },
        "id": "ehHDx7uBt_rf",
        "outputId": "a93c8d55-2394-4383-ef7f-c5079b88ba03"
      },
      "execution_count": 85,
      "outputs": [
        {
          "output_type": "stream",
          "name": "stdout",
          "text": [
            "None\n"
          ]
        }
      ]
    },
    {
      "cell_type": "code",
      "source": [
        "print(d.get('key1','some_default_value'))"
      ],
      "metadata": {
        "colab": {
          "base_uri": "https://localhost:8080/"
        },
        "id": "faZdrUo9vCBe",
        "outputId": "96a42ed1-0274-468f-9163-3f45b8bd1742"
      },
      "execution_count": 86,
      "outputs": [
        {
          "output_type": "stream",
          "name": "stdout",
          "text": [
            "some_default_value\n"
          ]
        }
      ]
    },
    {
      "cell_type": "code",
      "source": [
        "from collections import defaultdict\n",
        "issubclass(defaultdict, dict)"
      ],
      "metadata": {
        "colab": {
          "base_uri": "https://localhost:8080/"
        },
        "id": "cNuRCHhPt9xD",
        "outputId": "1d63f320-95aa-4e03-9436-55d38634ca22"
      },
      "execution_count": 99,
      "outputs": [
        {
          "output_type": "execute_result",
          "data": {
            "text/plain": [
              "True"
            ]
          },
          "metadata": {},
          "execution_count": 99
        }
      ]
    },
    {
      "cell_type": "code",
      "source": [],
      "metadata": {
        "id": "GXqAaLKbvmo1"
      },
      "execution_count": null,
      "outputs": []
    },
    {
      "cell_type": "code",
      "source": [
        "d = defaultdict(int)\n",
        "d['key1']"
      ],
      "metadata": {
        "colab": {
          "base_uri": "https://localhost:8080/"
        },
        "id": "omrO-r8QvlFT",
        "outputId": "fa7b2b47-4aab-4b9a-8148-549981f0a957"
      },
      "execution_count": 102,
      "outputs": [
        {
          "output_type": "execute_result",
          "data": {
            "text/plain": [
              "0"
            ]
          },
          "metadata": {},
          "execution_count": 102
        }
      ]
    },
    {
      "cell_type": "code",
      "source": [
        "d = defaultdict(str)\n",
        "d['key2']"
      ],
      "metadata": {
        "colab": {
          "base_uri": "https://localhost:8080/",
          "height": 35
        },
        "id": "UzORk6H5t91o",
        "outputId": "acc0036e-a4f1-496c-fcc9-e3ea34d2b401"
      },
      "execution_count": 92,
      "outputs": [
        {
          "output_type": "execute_result",
          "data": {
            "text/plain": [
              "''"
            ],
            "application/vnd.google.colaboratory.intrinsic+json": {
              "type": "string"
            }
          },
          "metadata": {},
          "execution_count": 92
        }
      ]
    },
    {
      "cell_type": "code",
      "source": [
        "d = defaultdict(list)\n",
        "d['key2']\n",
        "d"
      ],
      "metadata": {
        "colab": {
          "base_uri": "https://localhost:8080/"
        },
        "id": "KDPhXzA8vOWD",
        "outputId": "7519b9b0-717e-44ee-9dbd-541586bc8519"
      },
      "execution_count": 121,
      "outputs": [
        {
          "output_type": "execute_result",
          "data": {
            "text/plain": [
              "defaultdict(list, {'key2': []})"
            ]
          },
          "metadata": {},
          "execution_count": 121
        }
      ]
    },
    {
      "cell_type": "code",
      "source": [
        "d['key2'].append(1)\n",
        "d['key2'].append(2)\n",
        "d['key2'].append(3)\n",
        "d"
      ],
      "metadata": {
        "colab": {
          "base_uri": "https://localhost:8080/"
        },
        "id": "A78-nh3gvOX8",
        "outputId": "dd65249d-cb00-438a-d11a-f597b725b6c2"
      },
      "execution_count": 123,
      "outputs": [
        {
          "output_type": "execute_result",
          "data": {
            "text/plain": [
              "defaultdict(list, {'key2': [1, 2, 2, 1, 2, 3]})"
            ]
          },
          "metadata": {},
          "execution_count": 123
        }
      ]
    },
    {
      "cell_type": "code",
      "source": [
        "d = dict()\n",
        "d.setdefault('0',-1)\n",
        "d"
      ],
      "metadata": {
        "colab": {
          "base_uri": "https://localhost:8080/"
        },
        "id": "fZCm5JLEvOao",
        "outputId": "d4fe14ff-79f9-48d6-ab55-482356439a5c"
      },
      "execution_count": 125,
      "outputs": [
        {
          "output_type": "execute_result",
          "data": {
            "text/plain": [
              "{'0': -1}"
            ]
          },
          "metadata": {},
          "execution_count": 125
        }
      ]
    },
    {
      "cell_type": "code",
      "source": [
        "class LRUCache:\n",
        "  def __init__(self,n):\n",
        "    self.size = n\n",
        "\n",
        "  def put(self,v):\n",
        "    pass\n",
        "\n",
        "  def get(self):\n",
        "    pass"
      ],
      "metadata": {
        "id": "G64Z4_qMxrkI"
      },
      "execution_count": 143,
      "outputs": []
    },
    {
      "cell_type": "code",
      "source": [
        "l = LRUCache(5)\n",
        "l.put(5)"
      ],
      "metadata": {
        "colab": {
          "base_uri": "https://localhost:8080/"
        },
        "id": "qvdC97BIxrmm",
        "outputId": "ddb714f0-22cd-4a4b-e723-55c46fdaebf8"
      },
      "execution_count": 142,
      "outputs": [
        {
          "output_type": "execute_result",
          "data": {
            "text/plain": [
              "<__main__.LRUCache at 0x7f750f9bc880>"
            ]
          },
          "metadata": {},
          "execution_count": 142
        }
      ]
    },
    {
      "cell_type": "code",
      "source": [],
      "metadata": {
        "id": "WD4oec6Dxroq"
      },
      "execution_count": null,
      "outputs": []
    }
  ]
}